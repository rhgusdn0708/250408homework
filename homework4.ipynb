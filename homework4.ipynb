{
 "cells": [
  {
   "cell_type": "code",
   "execution_count": 2,
   "id": "238c1fba",
   "metadata": {},
   "outputs": [
    {
     "name": "stdout",
     "output_type": "stream",
     "text": [
      "Downloading img\\낢이사는이야기\\48\\01.jpg (166,289 bytes)\n",
      "Downloading img\\낢이사는이야기\\48\\02.jpg (117,581 bytes)\n",
      "Downloading img\\낢이사는이야기\\48\\03.jpg (175,647 bytes)\n",
      "Downloading img\\낢이사는이야기\\48\\04.jpg (140,295 bytes)\n",
      "Downloading img\\낢이사는이야기\\48\\05.jpg (115,277 bytes)\n",
      "Downloading img\\낢이사는이야기\\48\\06.jpg (86,840 bytes)\n",
      "Downloading img\\낢이사는이야기\\48\\07.jpg (151,280 bytes)\n",
      "Downloading img\\낢이사는이야기\\48\\08.jpg (146,198 bytes)\n",
      "Downloading img\\낢이사는이야기\\48\\09.jpg (86,460 bytes)\n",
      "Downloading img\\낢이사는이야기\\48\\10.jpg (152,631 bytes)\n",
      "Downloading img\\낢이사는이야기\\48\\11.jpg (236,174 bytes)\n",
      "Downloading img\\낢이사는이야기\\48\\12.jpg (218,403 bytes)\n",
      "Downloading img\\낢이사는이야기\\48\\13.jpg (126,874 bytes)\n",
      "Downloading img\\낢이사는이야기\\48\\14.jpg (169,822 bytes)\n",
      "Downloading img\\낢이사는이야기\\48\\15.jpg (100,097 bytes)\n",
      "Downloading img\\낢이사는이야기\\48\\16.jpg (138,348 bytes)\n",
      "Downloading img\\낢이사는이야기\\48\\17.jpg (136,580 bytes)\n",
      "Downloading img\\낢이사는이야기\\48\\18.jpg (127,154 bytes)\n",
      "Downloading img\\낢이사는이야기\\48\\19.jpg (155,183 bytes)\n",
      "Downloading img\\낢이사는이야기\\48\\20.jpg (175,333 bytes)\n",
      "Downloading img\\낢이사는이야기\\48\\21.jpg (108,840 bytes)\n",
      "Downloading img\\낢이사는이야기\\48\\22.jpg (107,072 bytes)\n",
      "Downloading img\\낢이사는이야기\\48\\23.jpg (9,392 bytes)\n"
     ]
    }
   ],
   "source": [
    "import requests\n",
    "from bs4 import BeautifulSoup\n",
    "import os\n",
    "\n",
    "def download_one_episode(title, no, url):\n",
    "    # 이미지 저장 경로 설정 (예: img\\낢이사는이야기\\48)\n",
    "    imgdir_path = os.path.join('img', title, str(no))\n",
    "    \n",
    "    # 이미지 저장 폴더가 없으면 생성\n",
    "    os.makedirs(imgdir_path, exist_ok=True)\n",
    "    \n",
    "    # 웹 페이지 요청 및 확인\n",
    "    res = requests.get(url)\n",
    "    if not res.ok:\n",
    "        print(f'Error Code = {res.status_code}')\n",
    "        return\n",
    "    \n",
    "    # 이미지 URL 추출\n",
    "    soup = BeautifulSoup(res.text, 'html.parser')\n",
    "    img_url_list = [img_tag['src'] for img_tag in soup.select(\"img[src*='IMAG01']\")]\n",
    "    \n",
    "    # 이미지 다운로드\n",
    "    for idx, img_url in enumerate(img_url_list, 1):\n",
    "        res = requests.get(img_url, headers={'referer': url})\n",
    "        if res.ok:\n",
    "            img_data = res.content\n",
    "            # 파일명 생성 (예: 01.jpg, 02.jpg 등)\n",
    "            file_name = f\"{str(idx).zfill(2)}.jpg\"\n",
    "            file_path = os.path.join(imgdir_path, file_name)\n",
    "            with open(file_path, 'wb') as file:\n",
    "                print(f'Downloading {file_path} ({len(img_data):,} bytes)')\n",
    "                file.write(img_data)\n",
    "        else:\n",
    "            print(f'Error Code = {res.status_code} for {img_url}')\n",
    "\n",
    "# 예시 호출\n",
    "download_one_episode('낢이사는이야기', 48, 'https://comic.naver.com/webtoon/detail?titleId=833255&no=49&week=tue')\n"
   ]
  }
 ],
 "metadata": {
  "kernelspec": {
   "display_name": "base",
   "language": "python",
   "name": "python3"
  },
  "language_info": {
   "codemirror_mode": {
    "name": "ipython",
    "version": 3
   },
   "file_extension": ".py",
   "mimetype": "text/x-python",
   "name": "python",
   "nbconvert_exporter": "python",
   "pygments_lexer": "ipython3",
   "version": "3.12.7"
  }
 },
 "nbformat": 4,
 "nbformat_minor": 5
}
