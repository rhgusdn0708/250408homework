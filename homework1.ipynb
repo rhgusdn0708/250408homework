{
 "cells": [
  {
   "cell_type": "code",
   "execution_count": 1,
   "id": "aca7032e",
   "metadata": {},
   "outputs": [
    {
     "name": "stdout",
     "output_type": "stream",
     "text": [
      "1. 제목: ‘관세 직격탄’ 애플 주가 19% ‘뚝’… 갈수록 커지는 ‘T공포’ [관세전쟁 후폭풍]\n",
      "   링크: https://v.daum.net/v/20250408184905360\n",
      "--------------------------------------------------\n",
      "2. 제목: 미·중 치킨게임…원화값 1473원대 추락, 글로벌 금융위기 후 최저\n",
      "   링크: https://v.daum.net/v/20250408183514025\n",
      "--------------------------------------------------\n",
      "3. 제목: 美·中 관세 폭탄 돌리기…‘새우등’ 한국 경제 불안감 더 커졌다\n",
      "   링크: https://v.daum.net/v/20250408175343664\n",
      "--------------------------------------------------\n",
      "4. 제목: 나랏빚 1175조 '역대 최대'…추경 재원 바닥\n",
      "   링크: https://v.daum.net/v/20250408175111585\n",
      "--------------------------------------------------\n",
      "5. 제목: 메디젠휴먼케어, \"23andMe 파산..한국 유전체 산업의 위기 아닌 기회\"\n",
      "   링크: https://v.daum.net/v/20250408174344325\n",
      "--------------------------------------------------\n",
      "6. 제목: 칩 확보서 데이터센터까지···전 산업에 'AI 고속도로' 깔아야\n",
      "   링크: https://v.daum.net/v/20250408173713085\n",
      "--------------------------------------------------\n",
      "7. 제목: 77년 묵은 정부조직, 데이터 중심 대수술···'AI 부총리' 도입을\n",
      "   링크: https://v.daum.net/v/20250408173626057\n",
      "--------------------------------------------------\n",
      "8. 제목: 트럼프발 주가폭락에 동아 \"경제적 핵전쟁\" 조선 \"금융위기 후 최악\"\n",
      "   링크: https://v.daum.net/v/20250408161553109\n",
      "--------------------------------------------------\n",
      "9. 제목: 공황과 격변의 판도라 박스가 열리다\n",
      "   링크: https://v.daum.net/v/20250408160526681\n",
      "--------------------------------------------------\n"
     ]
    }
   ],
   "source": [
    "import requests\n",
    "from bs4 import BeautifulSoup\n",
    "\n",
    "# 다음 경제 뉴스 URL\n",
    "url = 'https://news.daum.net/economy'\n",
    "\n",
    "# 웹페이지 요청 (UTF-8 인코딩)\n",
    "response = requests.get(url)\n",
    "response.encoding = 'utf-8'  # 명시적으로 UTF-8 인코딩 설정\n",
    "\n",
    "# 요청 성공 확인\n",
    "if response.status_code == 200:\n",
    "    # BeautifulSoup 객체 생성\n",
    "    soup = BeautifulSoup(response.text, 'html.parser')\n",
    "    \n",
    "    # 뉴스 기사 목록 추출\n",
    "    news_list = soup.select('ul.list_newsheadline2 li')\n",
    "    \n",
    "    # 각 뉴스 기사의 링크와 제목 출력\n",
    "    for index, li_tag in enumerate(news_list, 1):\n",
    "        # 링크 추출\n",
    "        a_tag = li_tag.find('a')\n",
    "        link = a_tag['href']\n",
    "        \n",
    "        # 제목 추출\n",
    "        strong_tag = li_tag.select_one('div.cont_thumb strong.tit_txt')\n",
    "        title = strong_tag.text.strip() if strong_tag else \"제목없음\"\n",
    "        \n",
    "        # 결과 출력\n",
    "        print(f\"{index}. 제목: {title}\")\n",
    "        print(f\"   링크: {link}\")\n",
    "        print(\"-\" * 50)\n",
    "else:\n",
    "    print(f\"페이지 요청 실패. 상태 코드: {response.status_code}\")"
   ]
  },
  {
   "cell_type": "code",
   "execution_count": null,
   "id": "57a3abcd",
   "metadata": {},
   "outputs": [],
   "source": []
  }
 ],
 "metadata": {
  "kernelspec": {
   "display_name": "base",
   "language": "python",
   "name": "python3"
  },
  "language_info": {
   "codemirror_mode": {
    "name": "ipython",
    "version": 3
   },
   "file_extension": ".py",
   "mimetype": "text/x-python",
   "name": "python",
   "nbconvert_exporter": "python",
   "pygments_lexer": "ipython3",
   "version": "3.12.7"
  }
 },
 "nbformat": 4,
 "nbformat_minor": 5
}
