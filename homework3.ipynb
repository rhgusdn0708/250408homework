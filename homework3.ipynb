{
 "cells": [
  {
   "cell_type": "code",
   "execution_count": 15,
   "id": "e188e3ca",
   "metadata": {},
   "outputs": [
    {
     "name": "stdout",
     "output_type": "stream",
     "text": [
      "\n",
      "🔴 최신뉴스 섹션 🔴\n",
      "\n",
      "📌 기사 1: 정보 없음\n",
      "🔗 링크: https://news.nate.com/view/20250409n19377?mid=n0100\n",
      "🖼 이미지: https://thumbnews.nateimg.co.kr/news90///news.nateimg.co.kr/orgImg/ch/2025/04/09/ch_1744170304941_326414_0.jpg\n"
     ]
    },
    {
     "data": {
      "text/html": [
       "<img src=\"https://thumbnews.nateimg.co.kr/news90///news.nateimg.co.kr/orgImg/ch/2025/04/09/ch_1744170304941_326414_0.jpg\" width=\"200\"/>"
      ],
      "text/plain": [
       "<IPython.core.display.Image object>"
      ]
     },
     "metadata": {},
     "output_type": "display_data"
    },
    {
     "name": "stdout",
     "output_type": "stream",
     "text": [
      "------------------------------------------------------------\n",
      "\n",
      "📌 기사 2: 정보 없음\n",
      "🔗 링크: https://news.nate.com/view/20250409n19412?mid=n0100\n",
      "🖼 이미지: https://thumbnews.nateimg.co.kr/news90///news.nateimg.co.kr/orgImg/yt/2025/04/09/PYH2025040910470006200_P2.jpg\n"
     ]
    },
    {
     "data": {
      "text/html": [
       "<img src=\"https://thumbnews.nateimg.co.kr/news90///news.nateimg.co.kr/orgImg/yt/2025/04/09/PYH2025040910470006200_P2.jpg\" width=\"200\"/>"
      ],
      "text/plain": [
       "<IPython.core.display.Image object>"
      ]
     },
     "metadata": {},
     "output_type": "display_data"
    },
    {
     "name": "stdout",
     "output_type": "stream",
     "text": [
      "------------------------------------------------------------\n",
      "\n",
      "📌 기사 3: 정보 없음\n",
      "🔗 링크: https://news.nate.com/view/20250409n19411?mid=n0100\n",
      "🖼 이미지: https://thumbnews.nateimg.co.kr/news90///news.nateimg.co.kr/orgImg/ts/2025/04/09/15633483_1538315_5052.jpg\n"
     ]
    },
    {
     "data": {
      "text/html": [
       "<img src=\"https://thumbnews.nateimg.co.kr/news90///news.nateimg.co.kr/orgImg/ts/2025/04/09/15633483_1538315_5052.jpg\" width=\"200\"/>"
      ],
      "text/plain": [
       "<IPython.core.display.Image object>"
      ]
     },
     "metadata": {},
     "output_type": "display_data"
    },
    {
     "name": "stdout",
     "output_type": "stream",
     "text": [
      "------------------------------------------------------------\n",
      "\n",
      "📌 기사 4: 정보 없음\n",
      "🔗 링크: https://news.nate.com/view/20250409n19410?mid=n0100\n",
      "🖼 이미지: https://thumbnews.nateimg.co.kr/news90///news.nateimg.co.kr/orgImg/yt/2025/04/09/PYH2025040910460006200_P2.jpg\n"
     ]
    },
    {
     "data": {
      "text/html": [
       "<img src=\"https://thumbnews.nateimg.co.kr/news90///news.nateimg.co.kr/orgImg/yt/2025/04/09/PYH2025040910460006200_P2.jpg\" width=\"200\"/>"
      ],
      "text/plain": [
       "<IPython.core.display.Image object>"
      ]
     },
     "metadata": {},
     "output_type": "display_data"
    },
    {
     "name": "stdout",
     "output_type": "stream",
     "text": [
      "------------------------------------------------------------\n",
      "\n",
      "📌 기사 5: 정보 없음\n",
      "🔗 링크: https://news.nate.com/view/20250409n19409?mid=n0100\n",
      "🖼 이미지: https://thumbnews.nateimg.co.kr/news90///news.nateimg.co.kr/orgImg/ts/2025/04/09/15633508_1538342_625.jpg\n"
     ]
    },
    {
     "data": {
      "text/html": [
       "<img src=\"https://thumbnews.nateimg.co.kr/news90///news.nateimg.co.kr/orgImg/ts/2025/04/09/15633508_1538342_625.jpg\" width=\"200\"/>"
      ],
      "text/plain": [
       "<IPython.core.display.Image object>"
      ]
     },
     "metadata": {},
     "output_type": "display_data"
    },
    {
     "name": "stdout",
     "output_type": "stream",
     "text": [
      "------------------------------------------------------------\n",
      "\n",
      "🔴 정치 섹션 🔴\n",
      "\n",
      "📌 기사 1: 정보 없음\n",
      "🔗 링크: https://news.nate.com/view/20250409n19005?mid=n0200\n",
      "🖼 이미지: https://thumbnews.nateimg.co.kr/news90///news.nateimg.co.kr/orgImg/na/2025/04/09/7225927_high.jpg\n"
     ]
    },
    {
     "data": {
      "text/html": [
       "<img src=\"https://thumbnews.nateimg.co.kr/news90///news.nateimg.co.kr/orgImg/na/2025/04/09/7225927_high.jpg\" width=\"200\"/>"
      ],
      "text/plain": [
       "<IPython.core.display.Image object>"
      ]
     },
     "metadata": {},
     "output_type": "display_data"
    },
    {
     "name": "stdout",
     "output_type": "stream",
     "text": [
      "------------------------------------------------------------\n",
      "\n",
      "📌 기사 2: 정보 없음\n",
      "🔗 링크: https://news.nate.com/view/20250409n16925?mid=n0200\n",
      "🖼 이미지: https://thumbnews.nateimg.co.kr/news90///news.nateimg.co.kr/orgImg/yt/2025/04/09/PYH2025040906160001300_P2.jpg\n"
     ]
    },
    {
     "data": {
      "text/html": [
       "<img src=\"https://thumbnews.nateimg.co.kr/news90///news.nateimg.co.kr/orgImg/yt/2025/04/09/PYH2025040906160001300_P2.jpg\" width=\"200\"/>"
      ],
      "text/plain": [
       "<IPython.core.display.Image object>"
      ]
     },
     "metadata": {},
     "output_type": "display_data"
    },
    {
     "name": "stdout",
     "output_type": "stream",
     "text": [
      "------------------------------------------------------------\n",
      "\n",
      "📌 기사 3: 정보 없음\n",
      "🔗 링크: https://news.nate.com/view/20250409n18227?mid=n0200\n",
      "🖼 이미지: https://thumbnews.nateimg.co.kr/news90///news.nateimg.co.kr/orgImg/mt/2025/04/09/mt_1744167845266_12692_0.jpg\n"
     ]
    },
    {
     "data": {
      "text/html": [
       "<img src=\"https://thumbnews.nateimg.co.kr/news90///news.nateimg.co.kr/orgImg/mt/2025/04/09/mt_1744167845266_12692_0.jpg\" width=\"200\"/>"
      ],
      "text/plain": [
       "<IPython.core.display.Image object>"
      ]
     },
     "metadata": {},
     "output_type": "display_data"
    },
    {
     "name": "stdout",
     "output_type": "stream",
     "text": [
      "------------------------------------------------------------\n",
      "\n",
      "📌 기사 4: 정보 없음\n",
      "🔗 링크: https://news.nate.com/view/20250409n18751?mid=n0200\n",
      "🖼 이미지: https://thumbnews.nateimg.co.kr/news90///news.nateimg.co.kr/orgImg/yt/2025/04/09/PYH2025040802310001300_P2.jpg\n"
     ]
    },
    {
     "data": {
      "text/html": [
       "<img src=\"https://thumbnews.nateimg.co.kr/news90///news.nateimg.co.kr/orgImg/yt/2025/04/09/PYH2025040802310001300_P2.jpg\" width=\"200\"/>"
      ],
      "text/plain": [
       "<IPython.core.display.Image object>"
      ]
     },
     "metadata": {},
     "output_type": "display_data"
    },
    {
     "name": "stdout",
     "output_type": "stream",
     "text": [
      "------------------------------------------------------------\n",
      "\n",
      "📌 기사 5: 정보 없음\n",
      "🔗 링크: https://news.nate.com/view/20250409n18638?mid=n0200\n",
      "🖼 이미지: https://thumbnews.nateimg.co.kr/news90///news.nateimg.co.kr/orgImg/yt/2025/04/09/PYH2025040710190001300_P2.jpg\n"
     ]
    },
    {
     "data": {
      "text/html": [
       "<img src=\"https://thumbnews.nateimg.co.kr/news90///news.nateimg.co.kr/orgImg/yt/2025/04/09/PYH2025040710190001300_P2.jpg\" width=\"200\"/>"
      ],
      "text/plain": [
       "<IPython.core.display.Image object>"
      ]
     },
     "metadata": {},
     "output_type": "display_data"
    },
    {
     "name": "stdout",
     "output_type": "stream",
     "text": [
      "------------------------------------------------------------\n",
      "\n",
      "🔴 경제 섹션 🔴\n",
      "\n",
      "📌 기사 1: 정보 없음\n",
      "🔗 링크: https://news.nate.com/view/20250409n17615?mid=n0300\n",
      "🖼 이미지: https://thumbnews.nateimg.co.kr/news90///news.nateimg.co.kr/orgImg/mk/2025/04/09/news-p.v1.20250409.7ac01213edf4429bb74677e7f6765737_P1.jpg\n"
     ]
    },
    {
     "data": {
      "text/html": [
       "<img src=\"https://thumbnews.nateimg.co.kr/news90///news.nateimg.co.kr/orgImg/mk/2025/04/09/news-p.v1.20250409.7ac01213edf4429bb74677e7f6765737_P1.jpg\" width=\"200\"/>"
      ],
      "text/plain": [
       "<IPython.core.display.Image object>"
      ]
     },
     "metadata": {},
     "output_type": "display_data"
    },
    {
     "name": "stdout",
     "output_type": "stream",
     "text": [
      "------------------------------------------------------------\n",
      "\n",
      "📌 기사 2: 정보 없음\n",
      "🔗 링크: https://news.nate.com/view/20250409n02718?mid=n0300\n",
      "🖼 이미지: https://thumbnews.nateimg.co.kr/news90///news.nateimg.co.kr/orgImg/mk/2025/04/09/news-p.v1.20250408.96d46605438f4fef92e2397fb613309b_P1.png\n"
     ]
    },
    {
     "data": {
      "text/html": [
       "<img src=\"https://thumbnews.nateimg.co.kr/news90///news.nateimg.co.kr/orgImg/mk/2025/04/09/news-p.v1.20250408.96d46605438f4fef92e2397fb613309b_P1.png\" width=\"200\"/>"
      ],
      "text/plain": [
       "<IPython.core.display.Image object>"
      ]
     },
     "metadata": {},
     "output_type": "display_data"
    },
    {
     "name": "stdout",
     "output_type": "stream",
     "text": [
      "------------------------------------------------------------\n",
      "\n",
      "📌 기사 3: 정보 없음\n",
      "🔗 링크: https://news.nate.com/view/20250409n18135?mid=n0300\n",
      "🖼 이미지: https://thumbnews.nateimg.co.kr/news90///news.nateimg.co.kr/orgImg/yt/2025/04/09/PYH2025010713940001300_P2.jpg\n"
     ]
    },
    {
     "data": {
      "text/html": [
       "<img src=\"https://thumbnews.nateimg.co.kr/news90///news.nateimg.co.kr/orgImg/yt/2025/04/09/PYH2025010713940001300_P2.jpg\" width=\"200\"/>"
      ],
      "text/plain": [
       "<IPython.core.display.Image object>"
      ]
     },
     "metadata": {},
     "output_type": "display_data"
    },
    {
     "name": "stdout",
     "output_type": "stream",
     "text": [
      "------------------------------------------------------------\n",
      "\n",
      "📌 기사 4: 정보 없음\n",
      "🔗 링크: https://news.nate.com/view/20250409n14367?mid=n0300\n",
      "🖼 이미지: https://thumbnews.nateimg.co.kr/news90///news.nateimg.co.kr/orgImg/yt/2025/04/09/AKR20250409057000009_03_i.jpg\n"
     ]
    },
    {
     "data": {
      "text/html": [
       "<img src=\"https://thumbnews.nateimg.co.kr/news90///news.nateimg.co.kr/orgImg/yt/2025/04/09/AKR20250409057000009_03_i.jpg\" width=\"200\"/>"
      ],
      "text/plain": [
       "<IPython.core.display.Image object>"
      ]
     },
     "metadata": {},
     "output_type": "display_data"
    },
    {
     "name": "stdout",
     "output_type": "stream",
     "text": [
      "------------------------------------------------------------\n",
      "\n",
      "📌 기사 5: 정보 없음\n",
      "🔗 링크: https://news.nate.com/view/20250409n12981?mid=n0300\n",
      "🖼 이미지: https://thumbnews.nateimg.co.kr/news90///news.nateimg.co.kr/orgImg/hr/2025/04/09/rcv.YNA.20250320.PYH2025032014580001300_P1.jpg\n"
     ]
    },
    {
     "data": {
      "text/html": [
       "<img src=\"https://thumbnews.nateimg.co.kr/news90///news.nateimg.co.kr/orgImg/hr/2025/04/09/rcv.YNA.20250320.PYH2025032014580001300_P1.jpg\" width=\"200\"/>"
      ],
      "text/plain": [
       "<IPython.core.display.Image object>"
      ]
     },
     "metadata": {},
     "output_type": "display_data"
    },
    {
     "name": "stdout",
     "output_type": "stream",
     "text": [
      "------------------------------------------------------------\n",
      "\n",
      "🔴 사회 섹션 🔴\n",
      "\n",
      "📌 기사 1: 정보 없음\n",
      "🔗 링크: https://news.nate.com/view/20250409n02868?mid=n0400\n",
      "🖼 이미지: https://thumbnews.nateimg.co.kr/news90///news.nateimg.co.kr/orgImg/yt/2025/04/09/AKR20250408165500004_01_i.jpg\n"
     ]
    },
    {
     "data": {
      "text/html": [
       "<img src=\"https://thumbnews.nateimg.co.kr/news90///news.nateimg.co.kr/orgImg/yt/2025/04/09/AKR20250408165500004_01_i.jpg\" width=\"200\"/>"
      ],
      "text/plain": [
       "<IPython.core.display.Image object>"
      ]
     },
     "metadata": {},
     "output_type": "display_data"
    },
    {
     "name": "stdout",
     "output_type": "stream",
     "text": [
      "------------------------------------------------------------\n",
      "\n",
      "📌 기사 2: 정보 없음\n",
      "🔗 링크: https://news.nate.com/view/20250409n06079?mid=n0400\n",
      "🖼 이미지: https://thumbnews.nateimg.co.kr/news90///news.nateimg.co.kr/orgImg/jt/2025/04/09/20250409075543260001.png\n"
     ]
    },
    {
     "data": {
      "text/html": [
       "<img src=\"https://thumbnews.nateimg.co.kr/news90///news.nateimg.co.kr/orgImg/jt/2025/04/09/20250409075543260001.png\" width=\"200\"/>"
      ],
      "text/plain": [
       "<IPython.core.display.Image object>"
      ]
     },
     "metadata": {},
     "output_type": "display_data"
    },
    {
     "name": "stdout",
     "output_type": "stream",
     "text": [
      "------------------------------------------------------------\n",
      "\n",
      "📌 기사 3: 정보 없음\n",
      "🔗 링크: https://news.nate.com/view/20250409n10994?mid=n0400\n",
      "🖼 이미지: https://thumbnews.nateimg.co.kr/news90///news.nateimg.co.kr/orgImg/ae/2025/04/09/ae_1744160885130_707226_0.jpg\n"
     ]
    },
    {
     "data": {
      "text/html": [
       "<img src=\"https://thumbnews.nateimg.co.kr/news90///news.nateimg.co.kr/orgImg/ae/2025/04/09/ae_1744160885130_707226_0.jpg\" width=\"200\"/>"
      ],
      "text/plain": [
       "<IPython.core.display.Image object>"
      ]
     },
     "metadata": {},
     "output_type": "display_data"
    },
    {
     "name": "stdout",
     "output_type": "stream",
     "text": [
      "------------------------------------------------------------\n",
      "\n",
      "📌 기사 4: 정보 없음\n",
      "🔗 링크: https://news.nate.com/view/20250409n17062?mid=n0400\n",
      "🖼 이미지: https://thumbnews.nateimg.co.kr/news90///news.nateimg.co.kr/orgImg/ns/2025/04/09/NISI20250409_0001813189_web.jpg\n"
     ]
    },
    {
     "data": {
      "text/html": [
       "<img src=\"https://thumbnews.nateimg.co.kr/news90///news.nateimg.co.kr/orgImg/ns/2025/04/09/NISI20250409_0001813189_web.jpg\" width=\"200\"/>"
      ],
      "text/plain": [
       "<IPython.core.display.Image object>"
      ]
     },
     "metadata": {},
     "output_type": "display_data"
    },
    {
     "name": "stdout",
     "output_type": "stream",
     "text": [
      "------------------------------------------------------------\n",
      "\n",
      "📌 기사 5: 정보 없음\n",
      "🔗 링크: https://news.nate.com/view/20250409n16258?mid=n0400\n",
      "🖼 이미지: https://thumbnews.nateimg.co.kr/news90///news.nateimg.co.kr/orgImg/cz/2025/04/09/cz_1744165566300_740481_0.jpg\n"
     ]
    },
    {
     "data": {
      "text/html": [
       "<img src=\"https://thumbnews.nateimg.co.kr/news90///news.nateimg.co.kr/orgImg/cz/2025/04/09/cz_1744165566300_740481_0.jpg\" width=\"200\"/>"
      ],
      "text/plain": [
       "<IPython.core.display.Image object>"
      ]
     },
     "metadata": {},
     "output_type": "display_data"
    },
    {
     "name": "stdout",
     "output_type": "stream",
     "text": [
      "------------------------------------------------------------\n",
      "\n",
      "🔴 세계 섹션 🔴\n",
      "\n",
      "📌 기사 1: 정보 없음\n",
      "🔗 링크: https://news.nate.com/view/20250409n12991?mid=n0500\n",
      "🖼 이미지: https://thumbnews.nateimg.co.kr/news90///news.nateimg.co.kr/orgImg/ns/2025/04/09/NISI20250409_0001813052_web.gif\n"
     ]
    },
    {
     "data": {
      "text/html": [
       "<img src=\"https://thumbnews.nateimg.co.kr/news90///news.nateimg.co.kr/orgImg/ns/2025/04/09/NISI20250409_0001813052_web.gif\" width=\"200\"/>"
      ],
      "text/plain": [
       "<IPython.core.display.Image object>"
      ]
     },
     "metadata": {},
     "output_type": "display_data"
    },
    {
     "name": "stdout",
     "output_type": "stream",
     "text": [
      "------------------------------------------------------------\n",
      "\n",
      "📌 기사 2: 정보 없음\n",
      "🔗 링크: https://news.nate.com/view/20250409n16157?mid=n0500\n",
      "🖼 이미지: https://thumbnews.nateimg.co.kr/news90///news.nateimg.co.kr/orgImg/yt/2025/04/09/PRU20250409168101009_P2.jpg\n"
     ]
    },
    {
     "data": {
      "text/html": [
       "<img src=\"https://thumbnews.nateimg.co.kr/news90///news.nateimg.co.kr/orgImg/yt/2025/04/09/PRU20250409168101009_P2.jpg\" width=\"200\"/>"
      ],
      "text/plain": [
       "<IPython.core.display.Image object>"
      ]
     },
     "metadata": {},
     "output_type": "display_data"
    },
    {
     "name": "stdout",
     "output_type": "stream",
     "text": [
      "------------------------------------------------------------\n",
      "\n",
      "📌 기사 3: 정보 없음\n",
      "🔗 링크: https://news.nate.com/view/20250409n06933?mid=n0500\n",
      "🖼 이미지: https://thumbnews.nateimg.co.kr/news90///news.nateimg.co.kr/orgImg/yt/2025/04/09/PAP20250408048601009_P2.jpg\n"
     ]
    },
    {
     "data": {
      "text/html": [
       "<img src=\"https://thumbnews.nateimg.co.kr/news90///news.nateimg.co.kr/orgImg/yt/2025/04/09/PAP20250408048601009_P2.jpg\" width=\"200\"/>"
      ],
      "text/plain": [
       "<IPython.core.display.Image object>"
      ]
     },
     "metadata": {},
     "output_type": "display_data"
    },
    {
     "name": "stdout",
     "output_type": "stream",
     "text": [
      "------------------------------------------------------------\n",
      "\n",
      "📌 기사 4: 정보 없음\n",
      "🔗 링크: https://news.nate.com/view/20250409n13110?mid=n0500\n",
      "🖼 이미지: https://thumbnews.nateimg.co.kr/news90///news.nateimg.co.kr/orgImg/mk/2025/04/09/news-p.v1.20250409.624f73d1ee814e00b451b8d6fc34c7e2_P1.png\n"
     ]
    },
    {
     "data": {
      "text/html": [
       "<img src=\"https://thumbnews.nateimg.co.kr/news90///news.nateimg.co.kr/orgImg/mk/2025/04/09/news-p.v1.20250409.624f73d1ee814e00b451b8d6fc34c7e2_P1.png\" width=\"200\"/>"
      ],
      "text/plain": [
       "<IPython.core.display.Image object>"
      ]
     },
     "metadata": {},
     "output_type": "display_data"
    },
    {
     "name": "stdout",
     "output_type": "stream",
     "text": [
      "------------------------------------------------------------\n",
      "\n",
      "📌 기사 5: 정보 없음\n",
      "🔗 링크: https://news.nate.com/view/20250409n09651?mid=n0500\n",
      "🖼 이미지: https://thumbnews.nateimg.co.kr/news90///news.nateimg.co.kr/orgImg/yt/2025/04/09/AKR20250409048400073_01_i.jpg\n"
     ]
    },
    {
     "data": {
      "text/html": [
       "<img src=\"https://thumbnews.nateimg.co.kr/news90///news.nateimg.co.kr/orgImg/yt/2025/04/09/AKR20250409048400073_01_i.jpg\" width=\"200\"/>"
      ],
      "text/plain": [
       "<IPython.core.display.Image object>"
      ]
     },
     "metadata": {},
     "output_type": "display_data"
    },
    {
     "name": "stdout",
     "output_type": "stream",
     "text": [
      "------------------------------------------------------------\n",
      "\n",
      "🔴 IT/과학 섹션 🔴\n",
      "\n",
      "📌 기사 1: 정보 없음\n",
      "🔗 링크: https://news.nate.com/view/20250409n09259?mid=n0600\n",
      "🖼 이미지: https://thumbnews.nateimg.co.kr/news90///news.nateimg.co.kr/orgImg/ny/2025/04/09/AKR20250409093742488_01_i.jpg\n"
     ]
    },
    {
     "data": {
      "text/html": [
       "<img src=\"https://thumbnews.nateimg.co.kr/news90///news.nateimg.co.kr/orgImg/ny/2025/04/09/AKR20250409093742488_01_i.jpg\" width=\"200\"/>"
      ],
      "text/plain": [
       "<IPython.core.display.Image object>"
      ]
     },
     "metadata": {},
     "output_type": "display_data"
    },
    {
     "name": "stdout",
     "output_type": "stream",
     "text": [
      "------------------------------------------------------------\n",
      "\n",
      "📌 기사 2: 정보 없음\n",
      "🔗 링크: https://news.nate.com/view/20250409n04317?mid=n0600\n",
      "🖼 이미지: https://thumbnews.nateimg.co.kr/news90///news.nateimg.co.kr/orgImg/yt/2025/04/09/AKR20250408071000017_02_i.jpg\n"
     ]
    },
    {
     "data": {
      "text/html": [
       "<img src=\"https://thumbnews.nateimg.co.kr/news90///news.nateimg.co.kr/orgImg/yt/2025/04/09/AKR20250408071000017_02_i.jpg\" width=\"200\"/>"
      ],
      "text/plain": [
       "<IPython.core.display.Image object>"
      ]
     },
     "metadata": {},
     "output_type": "display_data"
    },
    {
     "name": "stdout",
     "output_type": "stream",
     "text": [
      "------------------------------------------------------------\n",
      "\n",
      "📌 기사 3: 정보 없음\n",
      "🔗 링크: https://news.nate.com/view/20250409n04720?mid=n0600\n",
      "🖼 이미지: https://thumbnews.nateimg.co.kr/news90///news.nateimg.co.kr/orgImg/mt/2025/04/09/mt_1744153865161_225287_0.jpg\n"
     ]
    },
    {
     "data": {
      "text/html": [
       "<img src=\"https://thumbnews.nateimg.co.kr/news90///news.nateimg.co.kr/orgImg/mt/2025/04/09/mt_1744153865161_225287_0.jpg\" width=\"200\"/>"
      ],
      "text/plain": [
       "<IPython.core.display.Image object>"
      ]
     },
     "metadata": {},
     "output_type": "display_data"
    },
    {
     "name": "stdout",
     "output_type": "stream",
     "text": [
      "------------------------------------------------------------\n",
      "\n",
      "📌 기사 4: 정보 없음\n",
      "🔗 링크: https://news.nate.com/view/20250409n02925?mid=n0600\n",
      "🖼 이미지: 없음\n",
      "------------------------------------------------------------\n",
      "\n",
      "📌 기사 5: 정보 없음\n",
      "🔗 링크: https://news.nate.com/view/20250409n03053?mid=n0600\n",
      "🖼 이미지: https://thumbnews.nateimg.co.kr/news90///news.nateimg.co.kr/orgImg/sv/2025/04/09/202059042_700.jpg\n"
     ]
    },
    {
     "data": {
      "text/html": [
       "<img src=\"https://thumbnews.nateimg.co.kr/news90///news.nateimg.co.kr/orgImg/sv/2025/04/09/202059042_700.jpg\" width=\"200\"/>"
      ],
      "text/plain": [
       "<IPython.core.display.Image object>"
      ]
     },
     "metadata": {},
     "output_type": "display_data"
    },
    {
     "name": "stdout",
     "output_type": "stream",
     "text": [
      "------------------------------------------------------------\n"
     ]
    }
   ],
   "source": [
    "import requests\n",
    "from bs4 import BeautifulSoup\n",
    "from urllib.parse import urljoin\n",
    "from IPython.display import Image, display\n",
    "\n",
    "def safe_get_text(element, default=\"정보 없음\"):\n",
    "    return element.get_text(strip=True) if element else default\n",
    "\n",
    "def scrape_nate_news():\n",
    "    base_url = \"https://news.nate.com\"\n",
    "    sections = {\n",
    "        \"최신뉴스\": \"/recent?mid=n0100\",       \n",
    "        \"정치\": \"/section?mid=n0200\",\n",
    "        \"경제\": \"/section?mid=n0300\",\n",
    "        \"사회\": \"/section?mid=n0400\",\n",
    "        \"세계\": \"/section?mid=n0500\",\n",
    "        \"IT/과학\": \"/section?mid=n0600\"\n",
    "    }\n",
    "    \n",
    "    headers = {\n",
    "        'User-Agent': 'Mozilla/5.0 (Windows NT 10.0; Win64; x64) AppleWebKit/537.36 (KHTML, like Gecko) Chrome/119.0.0.0 Safari/537.36'\n",
    "    }\n",
    "    \n",
    "    for section_name, section_url in sections.items():\n",
    "        print(f\"\\n🔴 {section_name} 섹션 🔴\")\n",
    "        url = urljoin(base_url, section_url)\n",
    "        \n",
    "        try:\n",
    "            response = requests.get(url, headers=headers, timeout=10)\n",
    "            response.raise_for_status()\n",
    "            soup = BeautifulSoup(response.text, 'html.parser')\n",
    "            \n",
    "        \n",
    "            articles = soup.select('.mduSubject_list > li, .postListItem, .mlt01')\n",
    "            \n",
    "            \n",
    "            \n",
    "            if not articles:\n",
    "                print(f\"⚠ {section_name} 섹션에서 기사를 찾을 수 없습니다.\")\n",
    "                print(\"현재 페이지 HTML 구조를 확인 중...\")\n",
    "                print(soup.prettify()[:1000])  \n",
    "                continue\n",
    "                \n",
    "            for idx, article in enumerate(articles[:5], 1):\n",
    "                try:\n",
    "                    \n",
    "                    title_elem = article.select_one('.tit a, h2 a, .subject a, strong a')\n",
    "                    link_elem = article.select_one('a[href]')\n",
    "                    img_elem = article.select_one('img')\n",
    "                    \n",
    "                    title = safe_get_text(title_elem)\n",
    "                    link = urljoin(base_url, link_elem['href']) if link_elem else \"#\"\n",
    "                    img_url = urljoin(base_url, img_elem['src']) if img_elem else None\n",
    "                    \n",
    "                    print(f\"\\n📌 기사 {idx}: {title}\")\n",
    "                    print(f\"🔗 링크: {link}\")\n",
    "                    \n",
    "                    if img_url:\n",
    "                        print(f\"🖼 이미지: {img_url}\")\n",
    "                        try:\n",
    "                            display(Image(url=img_url, width=200))\n",
    "                        except:\n",
    "                            print(\"⚠ 이미지 표시에 실패했습니다.\")\n",
    "                    else:\n",
    "                        print(\"🖼 이미지: 없음\")\n",
    "                        \n",
    "                    print(\"-\"*60)\n",
    "                    \n",
    "                except Exception as e:\n",
    "                    print(f\"⚠ 기사 {idx} 처리 중 오류 발생: {str(e)}\")\n",
    "                    print(\"문제 발생 기사 HTML:\")\n",
    "                    print(article.prettify()[:500])  \n",
    "                    continue\n",
    "                    \n",
    "        except Exception as e:\n",
    "            print(f\"⚠ {section_name} 섹션 처리 중 심각한 오류 발생: {str(e)}\")\n",
    "            continue\n",
    "\n",
    "scrape_nate_news()"
   ]
  }
 ],
 "metadata": {
  "kernelspec": {
   "display_name": "base",
   "language": "python",
   "name": "python3"
  },
  "language_info": {
   "codemirror_mode": {
    "name": "ipython",
    "version": 3
   },
   "file_extension": ".py",
   "mimetype": "text/x-python",
   "name": "python",
   "nbconvert_exporter": "python",
   "pygments_lexer": "ipython3",
   "version": "3.12.7"
  }
 },
 "nbformat": 4,
 "nbformat_minor": 5
}
