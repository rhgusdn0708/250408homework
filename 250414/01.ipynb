{
 "cells": [
  {
   "cell_type": "code",
   "execution_count": 1,
   "id": "3a5df0c8",
   "metadata": {},
   "outputs": [
    {
     "name": "stdout",
     "output_type": "stream",
     "text": [
      "반지름이 5 인 원의 넓이는 78.53981633974483입니다.\n"
     ]
    }
   ],
   "source": [
    "import math\n",
    "\n",
    "radius = 5\n",
    "\n",
    "area = math.pi * (radius ** 2)\n",
    "\n",
    "print(f\"반지름이 {radius} 인 원의 넓이는 {area}입니다.\")\n"
   ]
  },
  {
   "cell_type": "code",
   "execution_count": null,
   "id": "dc0cd9aa",
   "metadata": {},
   "outputs": [
    {
     "name": "stdout",
     "output_type": "stream",
     "text": [
      "당신의 BMI는 22.79입니다.\n"
     ]
    }
   ],
   "source": [
    "weight = float(input(\"체중(kg)을 입력하세요: \"))\n",
    "height = float(input(\"키(cm)를 입력하세요: \"))\n",
    "\n",
    "height_m = height / 100\n",
    "\n",
    "bmi = weight / (height_m ** 2)\n",
    "\n",
    "print(f\"당신의 BMI는 {bmi:.2f}입니다.\")"
   ]
  },
  {
   "cell_type": "code",
   "execution_count": null,
   "id": "ce21684f",
   "metadata": {},
   "outputs": [
    {
     "name": "stdout",
     "output_type": "stream",
     "text": [
      "12345초 = 3시간 25분 45초\n"
     ]
    }
   ],
   "source": [
    "total_seconds = 12345\n",
    "\n",
    "hours = total_seconds // 3600\n",
    "remaining_seconds = total_seconds % 3600\n",
    "minutes = remaining_seconds // 60\n",
    "seconds = remaining_seconds % 60\n",
    "\n",
    "print(f\"{total_seconds}초 = {hours}시간 {minutes}분 {seconds}초\")"
   ]
  },
  {
   "cell_type": "code",
   "execution_count": 1,
   "id": "1e62e2cd",
   "metadata": {},
   "outputs": [
    {
     "name": "stdout",
     "output_type": "stream",
     "text": [
      "각자 받을 금액: 3333원\n",
      "남은 금액: 1원\n"
     ]
    }
   ],
   "source": [
    "total_money = 10000\n",
    "people = 3\n",
    "\n",
    "each_share = total_money // people\n",
    "\n",
    "remaining_money = total_money % people\n",
    "\n",
    "print(f\"각자 받을 금액: {each_share}원\")\n",
    "print(f\"남은 금액: {remaining_money}원\")"
   ]
  }
 ],
 "metadata": {
  "kernelspec": {
   "display_name": "base",
   "language": "python",
   "name": "python3"
  },
  "language_info": {
   "codemirror_mode": {
    "name": "ipython",
    "version": 3
   },
   "file_extension": ".py",
   "mimetype": "text/x-python",
   "name": "python",
   "nbconvert_exporter": "python",
   "pygments_lexer": "ipython3",
   "version": "3.12.7"
  }
 },
 "nbformat": 4,
 "nbformat_minor": 5
}
