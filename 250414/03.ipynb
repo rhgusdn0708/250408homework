{
 "cells": [
  {
   "cell_type": "code",
   "execution_count": 1,
   "id": "794ed00c",
   "metadata": {},
   "outputs": [
    {
     "name": "stdout",
     "output_type": "stream",
     "text": [
      "1. 추가된 리스트: ['apple', 'banana', 'cherry', 'orange']\n",
      "2. 리스트 합계: 60\n",
      "3. 리스트 역순: [5, 4, 3, 2, 1]\n",
      "4. 오름차순 정렬: [1, 2, 5, 8, 9]\n"
     ]
    }
   ],
   "source": [
    "\n",
    "fruits = [\"apple\", \"banana\", \"cherry\"]\n",
    "fruits.append(\"orange\")\n",
    "print(\"1. 추가된 리스트:\", fruits)\n",
    "\n",
    "numbers = [10, 20, 30]\n",
    "print(\"2. 리스트 합계:\", sum(numbers))\n",
    "\n",
    "nums = [1, 2, 3, 4, 5]\n",
    "print(\"3. 리스트 역순:\", nums[::-1])\n",
    "\n",
    "unsorted = [5, 2, 8, 1, 9]\n",
    "unsorted.sort()\n",
    "print(\"4. 오름차순 정렬:\", unsorted)"
   ]
  },
  {
   "cell_type": "code",
   "execution_count": 3,
   "id": "84024ba2",
   "metadata": {},
   "outputs": [
    {
     "name": "stdout",
     "output_type": "stream",
     "text": [
      "30\n",
      "['math', 'science', 'history']\n",
      "{'apple': 5, 'banana': 5}\n"
     ]
    }
   ],
   "source": [
    "\n",
    "\n",
    "person = {\"name\": \"John\", \"age\": 30}\n",
    "print(person[\"age\"]) \n",
    "\n",
    "scores = {\"math\": 90, \"science\": 85, \"history\": 78}\n",
    "print(list(scores.keys())) \n",
    "\n",
    "fruits = {'apple': 3, 'banana': 5}\n",
    "fruits['apple'] += 2\n",
    "print(fruits) "
   ]
  }
 ],
 "metadata": {
  "kernelspec": {
   "display_name": "base",
   "language": "python",
   "name": "python3"
  },
  "language_info": {
   "codemirror_mode": {
    "name": "ipython",
    "version": 3
   },
   "file_extension": ".py",
   "mimetype": "text/x-python",
   "name": "python",
   "nbconvert_exporter": "python",
   "pygments_lexer": "ipython3",
   "version": "3.12.7"
  }
 },
 "nbformat": 4,
 "nbformat_minor": 5
}
