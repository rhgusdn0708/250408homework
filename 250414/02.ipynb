{
 "cells": [
  {
   "cell_type": "code",
   "execution_count": null,
   "id": "1f37f8ee",
   "metadata": {},
   "outputs": [
    {
     "name": "stdout",
     "output_type": "stream",
     "text": [
      "Hello World\n",
      "HELLO WORLD\n",
      "World\n",
      "['Python', 'is', 'fun']\n",
      "ace\n",
      "Hello Hello Hello \n"
     ]
    }
   ],
   "source": [
    "hello_world = \"Hello\" + \" \" + \"World\"\n",
    "print(hello_world)\n",
    "\n",
    "upper_case = hello_world.upper()\n",
    "print(upper_case)\n",
    "\n",
    "world_slice = hello_world[6:]\n",
    "print(world_slice)\n",
    "\n",
    "split_str = \"Python is fun\".split()\n",
    "print(split_str)\n",
    "\n",
    "even_index = \"abcdef\"[::2]\n",
    "print(even_index)\n",
    "\n",
    "repeat_hello = \"Hello \" * 3\n",
    "print(repeat_hello)"
   ]
  },
  {
   "cell_type": "code",
   "execution_count": 4,
   "id": "9f251821",
   "metadata": {},
   "outputs": [
    {
     "name": "stdout",
     "output_type": "stream",
     "text": [
      "1997년 12월 22일\n"
     ]
    }
   ],
   "source": [
    "def extract_birthdate(ssn):\n",
    "   \n",
    "    birth_part = ssn.split('-')[0]\n",
    "    \n",
    "    year = int(birth_part[:2])\n",
    "   \n",
    "    birth_year = 1900 + year if year >= 0 else 2000 + year\n",
    "    \n",
    "    month = birth_part[2:4]\n",
    "    day = birth_part[4:6]\n",
    "    \n",
    "    return f\"{birth_year}년 {month}월 {day}일\"\n",
    "\n",
    "\n",
    "ssn = \"971222-1234567\"\n",
    "birthdate = extract_birthdate(ssn)\n",
    "print(birthdate)"
   ]
  },
  {
   "cell_type": "code",
   "execution_count": null,
   "id": "df729750",
   "metadata": {},
   "outputs": [
    {
     "name": "stdout",
     "output_type": "stream",
     "text": [
      "유효한 이메일 주소입니다.\n"
     ]
    }
   ],
   "source": [
    "def is_valid_email_basic(email):\n",
    "    if '@' not in email or '.' not in email:\n",
    "        return False\n",
    "    return True\n",
    "\n",
    "email = input(\"이메일 주소를 입력하세요: \")\n",
    "if is_valid_email_basic(email):\n",
    "    print(\"유효한 이메일 주소입니다.\")\n",
    "else:\n",
    "    print(\"유효하지 않은 이메일 주소입니다. '@'와 '.'을 포함해야 합니다.\")"
   ]
  },
  {
   "cell_type": "code",
   "execution_count": 11,
   "id": "4ee49f54",
   "metadata": {},
   "outputs": [
    {
     "name": "stdout",
     "output_type": "stream",
     "text": [
      "모음 개수: 6\n"
     ]
    }
   ],
   "source": [
    "s = \"Python is awesome\"\n",
    "vowels = \"aeiou\"\n",
    "count = len(list(filter(lambda x: x in vowels, s.lower())))\n",
    "\n",
    "print(f\"모음 개수: {count}\") "
   ]
  }
 ],
 "metadata": {
  "kernelspec": {
   "display_name": "base",
   "language": "python",
   "name": "python3"
  },
  "language_info": {
   "codemirror_mode": {
    "name": "ipython",
    "version": 3
   },
   "file_extension": ".py",
   "mimetype": "text/x-python",
   "name": "python",
   "nbconvert_exporter": "python",
   "pygments_lexer": "ipython3",
   "version": "3.12.7"
  }
 },
 "nbformat": 4,
 "nbformat_minor": 5
}
