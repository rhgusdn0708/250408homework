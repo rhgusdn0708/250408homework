{
 "cells": [
  {
   "cell_type": "code",
   "execution_count": null,
   "id": "3cde3b25",
   "metadata": {},
   "outputs": [
    {
     "name": "stdout",
     "output_type": "stream",
     "text": [
      "2 4 6 8 10 "
     ]
    }
   ],
   "source": [
    "\n",
    "for num in range(1, 11):  \n",
    "    if num % 2 == 0:      \n",
    "        print(num, end=' ')"
   ]
  },
  {
   "cell_type": "code",
   "execution_count": 7,
   "id": "22417f82",
   "metadata": {},
   "outputs": [
    {
     "name": "stdout",
     "output_type": "stream",
     "text": [
      "1683\n"
     ]
    }
   ],
   "source": [
    "n = 100 // 3\n",
    "sum_3 = 3 * n * (n + 1) // 2\n",
    "print(sum_3)  "
   ]
  },
  {
   "cell_type": "code",
   "execution_count": 8,
   "id": "5335c3f0",
   "metadata": {},
   "outputs": [
    {
     "name": "stdout",
     "output_type": "stream",
     "text": [
      "합격 점수: [70, 85, 90, 78]\n"
     ]
    }
   ],
   "source": [
    "scores = [70, 85, 90, 55, 78]\n",
    "\n",
    "passing_scores = [score for score in scores if score >= 60]\n",
    "print(\"합격 점수:\", passing_scores)"
   ]
  },
  {
   "cell_type": "code",
   "execution_count": 9,
   "id": "c1bdfaba",
   "metadata": {},
   "outputs": [
    {
     "name": "stdout",
     "output_type": "stream",
     "text": [
      "\n",
      "\n",
      "[3단]\n",
      "3 × 1 =  3\n",
      "3 × 2 =  6\n",
      "3 × 3 =  9\n",
      "3 × 4 = 12\n",
      "3 × 5 = 15\n",
      "3 × 6 = 18\n",
      "3 × 7 = 21\n",
      "3 × 8 = 24\n",
      "3 × 9 = 27\n"
     ]
    }
   ],
   "source": [
    "print(\"\\n\\n[3단]\")  \n",
    "for i in range(1, 10):\n",
    "    print(f\"3 × {i} = {3*i:2d}\") "
   ]
  }
 ],
 "metadata": {
  "kernelspec": {
   "display_name": "base",
   "language": "python",
   "name": "python3"
  },
  "language_info": {
   "codemirror_mode": {
    "name": "ipython",
    "version": 3
   },
   "file_extension": ".py",
   "mimetype": "text/x-python",
   "name": "python",
   "nbconvert_exporter": "python",
   "pygments_lexer": "ipython3",
   "version": "3.12.7"
  }
 },
 "nbformat": 4,
 "nbformat_minor": 5
}
