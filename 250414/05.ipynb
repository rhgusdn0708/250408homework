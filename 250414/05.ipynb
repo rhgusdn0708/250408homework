{
 "cells": [
  {
   "cell_type": "code",
   "execution_count": null,
   "id": "5e2a82c8",
   "metadata": {},
   "outputs": [
    {
     "name": "stdout",
     "output_type": "stream",
     "text": [
      "[1, 4, 9, 16, 25]\n"
     ]
    }
   ],
   "source": [
    "def generate_squares(n):\n",
    "    \"\"\"1부터 n까지 제곱 리스트 반환\"\"\"\n",
    "    return [x**2 for x in range(1, n+1)]\n",
    "\n",
    "if __name__ == \"__main__\":\n",
    "    print(generate_squares(5))  "
   ]
  },
  {
   "cell_type": "code",
   "execution_count": 13,
   "id": "d0d60759",
   "metadata": {},
   "outputs": [
    {
     "name": "stdout",
     "output_type": "stream",
     "text": [
      "단어 수: 5\n"
     ]
    }
   ],
   "source": [
    "def count_words(sentence):\n",
    "    words = sentence.split() \n",
    "    return len(words)\n",
    "\n",
    "if __name__ == \"__main__\":\n",
    "    test_sentence = \"Hello world this is Python\"\n",
    "    word_count = count_words(test_sentence)\n",
    "    print(f\"단어 수: {word_count}\")"
   ]
  },
  {
   "cell_type": "code",
   "execution_count": 17,
   "id": "a66513e2",
   "metadata": {},
   "outputs": [
    {
     "name": "stdout",
     "output_type": "stream",
     "text": [
      "10부터 50까지의 소수: [11, 13, 17, 19, 23, 29, 31, 37, 41, 43, 47]\n"
     ]
    }
   ],
   "source": [
    "def find_primes(start, end):\n",
    " \n",
    "    primes = []\n",
    "    for num in range(max(2, start), end + 1): \n",
    "        is_prime = True\n",
    "        for i in range(2, int(num**0.5) + 1):  \n",
    "            if num % i == 0:\n",
    "                is_prime = False\n",
    "                break\n",
    "        if is_prime:\n",
    "            primes.append(num)\n",
    "    return primes\n",
    "\n",
    "if __name__ == \"__main__\":\n",
    "    start = 10\n",
    "    end = 50\n",
    "    result = find_primes(start, end)\n",
    "    print(f\"{start}부터 {end}까지의 소수: {result}\")\n",
    "   "
   ]
  }
 ],
 "metadata": {
  "kernelspec": {
   "display_name": "base",
   "language": "python",
   "name": "python3"
  },
  "language_info": {
   "codemirror_mode": {
    "name": "ipython",
    "version": 3
   },
   "file_extension": ".py",
   "mimetype": "text/x-python",
   "name": "python",
   "nbconvert_exporter": "python",
   "pygments_lexer": "ipython3",
   "version": "3.12.7"
  }
 },
 "nbformat": 4,
 "nbformat_minor": 5
}
